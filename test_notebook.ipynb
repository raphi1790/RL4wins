{
 "cells": [
  {
   "cell_type": "code",
   "execution_count": 1,
   "id": "59c9b4a3",
   "metadata": {},
   "outputs": [
    {
     "name": "stdout",
     "output_type": "stream",
     "text": [
      "pygame 2.0.1 (SDL 2.0.14, Python 3.7.12)\n",
      "Hello from the pygame community. https://www.pygame.org/contribute.html\n"
     ]
    }
   ],
   "source": [
    "import gym\n",
    "from environments.connect_four_env import ConnectFourEnv\n",
    "from environments.players import RandomPlayer, HumanPlayer, Negamax\n",
    "env=ConnectFourEnv()"
   ]
  },
  {
   "cell_type": "code",
   "execution_count": 2,
   "id": "79cfe724",
   "metadata": {},
   "outputs": [
    {
     "data": {
      "text/plain": [
       "<bound method Discrete.sample of Discrete(7)>"
      ]
     },
     "execution_count": 2,
     "metadata": {},
     "output_type": "execute_result"
    }
   ],
   "source": [
    "env.action_space.sample"
   ]
  },
  {
   "cell_type": "code",
   "execution_count": 3,
   "id": "8f163904",
   "metadata": {},
   "outputs": [],
   "source": [
    "player1 = RandomPlayer(env, 'Dexter-Bot')\n",
    "player2 = Negamax(env, 'Deedee-Bot')\n",
    "result = env.run(player1, player2, render=True)\n",
    "reward = result.value\n",
    "print(reward)"
   ]
  },
  {
   "cell_type": "code",
   "execution_count": null,
   "id": "22ccfe9e",
   "metadata": {},
   "outputs": [],
   "source": [
    "import pygame\n",
    "pygame.init()\n",
    "pygame.display.list_modes()"
   ]
  },
  {
   "cell_type": "code",
   "execution_count": null,
   "id": "be38dfb7",
   "metadata": {},
   "outputs": [],
   "source": [
    "pygame.quit()"
   ]
  },
  {
   "cell_type": "code",
   "execution_count": 2,
   "id": "feefd0ae",
   "metadata": {},
   "outputs": [],
   "source": [
    "width=7\n",
    "height=6"
   ]
  },
  {
   "cell_type": "code",
   "execution_count": 3,
   "id": "339b65ae",
   "metadata": {},
   "outputs": [],
   "source": [
    "rows = [[(y, x) for x in range(width)] for y in range(height)]\n",
    "columns = [[(x, y) for x in range(height)] for y in range(width)]\n",
    "\n",
    "up = [[(x, y) for x in range(height) for y in range(width)\n",
    "        if x + y == z] for z in range(3, 9)]\n",
    "down = [[(x, y) for x in range(height) for y in range(width)\n",
    "            if x - y == z] for z in range(-3, 3)]\n",
    "\n",
    "segments = rows + columns + up + down"
   ]
  },
  {
   "cell_type": "code",
   "execution_count": 6,
   "id": "546eb336",
   "metadata": {},
   "outputs": [],
   "source": [
    "segments\n",
    "splitted_segments=[segments[x][i:i+4] for x in range(len(segments)) for i in range(len(segments[x])-3)]"
   ]
  },
  {
   "cell_type": "code",
   "execution_count": 9,
   "id": "1230267e",
   "metadata": {},
   "outputs": [
    {
     "data": {
      "text/plain": [
       "69"
      ]
     },
     "execution_count": 9,
     "metadata": {},
     "output_type": "execute_result"
    }
   ],
   "source": [
    "len(splitted_segments)"
   ]
  },
  {
   "cell_type": "code",
   "execution_count": null,
   "id": "f2c7a504",
   "metadata": {},
   "outputs": [],
   "source": []
  }
 ],
 "metadata": {
  "interpreter": {
   "hash": "83b5c8dd5ca1ff0b2be8c81968238e779bc80aaa3eb90c1b05c9705095c60d44"
  },
  "kernelspec": {
   "display_name": "Python 3.7.12 ('RL4wins-sXXOfuvB')",
   "language": "python",
   "name": "python3"
  },
  "language_info": {
   "codemirror_mode": {
    "name": "ipython",
    "version": 3
   },
   "file_extension": ".py",
   "mimetype": "text/x-python",
   "name": "python",
   "nbconvert_exporter": "python",
   "pygments_lexer": "ipython3",
   "version": "3.7.12"
  }
 },
 "nbformat": 4,
 "nbformat_minor": 5
}
